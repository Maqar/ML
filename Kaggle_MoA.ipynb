{
 "cells": [
  {
   "cell_type": "code",
   "execution_count": 1,
   "metadata": {
    "_cell_guid": "b1076dfc-b9ad-4769-8c92-a6c4dae69d19",
    "_uuid": "8f2839f25d086af736a60e9eeb907d3b93b6e0e5",
    "execution": {
     "iopub.execute_input": "2020-12-18T07:43:31.754503Z",
     "iopub.status.busy": "2020-12-18T07:43:31.753736Z",
     "iopub.status.idle": "2020-12-18T07:43:38.015458Z",
     "shell.execute_reply": "2020-12-18T07:43:38.016800Z"
    },
    "papermill": {
     "duration": 6.283156,
     "end_time": "2020-12-18T07:43:38.017093",
     "exception": false,
     "start_time": "2020-12-18T07:43:31.733937",
     "status": "completed"
    },
    "tags": []
   },
   "outputs": [
    {
     "name": "stdout",
     "output_type": "stream",
     "text": [
      "/kaggle/input/lish-moa/train_targets_scored.csv\n",
      "/kaggle/input/lish-moa/sample_submission.csv\n",
      "/kaggle/input/lish-moa/train_drug.csv\n",
      "/kaggle/input/lish-moa/train_targets_nonscored.csv\n",
      "/kaggle/input/lish-moa/train_features.csv\n",
      "/kaggle/input/lish-moa/test_features.csv\n"
     ]
    }
   ],
   "source": [
    "import numpy as np \n",
    "import pandas as pd \n",
    "import tensorflow as tf\n",
    "import matplotlib.pyplot as plt\n",
    "from sklearn.preprocessing import OneHotEncoder \n",
    "from sklearn.preprocessing import LabelEncoder\n",
    "import sklearn\n",
    "from sklearn.model_selection import train_test_split\n",
    "import tensorflow_addons as tfa\n",
    "from sklearn.metrics import roc_auc_score\n",
    "from sklearn.model_selection import KFold\n",
    "from tensorflow.keras.layers import Dense, Conv2D, Dropout, Activation, MaxPooling2D, Flatten \n",
    "\n",
    "\n",
    "\n",
    "import os\n",
    "for dirname, _, filenames in os.walk('/kaggle/input'):\n",
    "    for filename in filenames:\n",
    "        print(os.path.join(dirname, filename))\n",
    "\n"
   ]
  },
  {
   "cell_type": "code",
   "execution_count": 2,
   "metadata": {
    "execution": {
     "iopub.execute_input": "2020-12-18T07:43:38.072345Z",
     "iopub.status.busy": "2020-12-18T07:43:38.071406Z",
     "iopub.status.idle": "2020-12-18T07:43:45.449104Z",
     "shell.execute_reply": "2020-12-18T07:43:45.447951Z"
    },
    "papermill": {
     "duration": 7.40556,
     "end_time": "2020-12-18T07:43:45.449241",
     "exception": false,
     "start_time": "2020-12-18T07:43:38.043681",
     "status": "completed"
    },
    "tags": []
   },
   "outputs": [],
   "source": [
    "train_y = pd.read_csv(\"/kaggle/input/lish-moa/train_targets_scored.csv\")\n",
    "train_X = pd.read_csv(\"/kaggle/input/lish-moa/train_features.csv\")\n",
    "test_X = pd.read_csv(\"/kaggle/input/lish-moa/test_features.csv\")\n",
    "sample1 = pd.read_csv(\"/kaggle/input/lish-moa/sample_submission.csv\")"
   ]
  },
  {
   "cell_type": "code",
   "execution_count": 3,
   "metadata": {
    "execution": {
     "iopub.execute_input": "2020-12-18T07:43:46.721365Z",
     "iopub.status.busy": "2020-12-18T07:43:46.538386Z",
     "iopub.status.idle": "2020-12-18T07:43:47.134529Z",
     "shell.execute_reply": "2020-12-18T07:43:47.133718Z"
    },
    "papermill": {
     "duration": 1.674125,
     "end_time": "2020-12-18T07:43:47.134664",
     "exception": false,
     "start_time": "2020-12-18T07:43:45.460539",
     "status": "completed"
    },
    "tags": []
   },
   "outputs": [],
   "source": [
    "train_y = train_y.drop(\"sig_id\", axis= 1)\n",
    "train_X= np.array(train_X)"
   ]
  },
  {
   "cell_type": "code",
   "execution_count": 4,
   "metadata": {
    "execution": {
     "iopub.execute_input": "2020-12-18T07:43:47.181313Z",
     "iopub.status.busy": "2020-12-18T07:43:47.180388Z",
     "iopub.status.idle": "2020-12-18T07:43:47.511269Z",
     "shell.execute_reply": "2020-12-18T07:43:47.512425Z"
    },
    "papermill": {
     "duration": 0.361816,
     "end_time": "2020-12-18T07:43:47.512618",
     "exception": false,
     "start_time": "2020-12-18T07:43:47.150802",
     "status": "completed"
    },
    "tags": []
   },
   "outputs": [],
   "source": [
    "test_X= np.array(test_X)\n",
    "\n",
    "train_y= np.array(train_y)"
   ]
  },
  {
   "cell_type": "code",
   "execution_count": 5,
   "metadata": {
    "execution": {
     "iopub.execute_input": "2020-12-18T07:43:47.558264Z",
     "iopub.status.busy": "2020-12-18T07:43:47.557483Z",
     "iopub.status.idle": "2020-12-18T07:43:47.635125Z",
     "shell.execute_reply": "2020-12-18T07:43:47.636133Z"
    },
    "papermill": {
     "duration": 0.106824,
     "end_time": "2020-12-18T07:43:47.636289",
     "exception": false,
     "start_time": "2020-12-18T07:43:47.529465",
     "status": "completed"
    },
    "tags": []
   },
   "outputs": [],
   "source": [
    "le = LabelEncoder()\n",
    "train_X[:, 0] = le.fit_transform(train_X[:, 0])\n",
    "test_X[:, 0] = le.fit_transform(test_X[:, 0])\n",
    "\n",
    "train_X[:, 1] = le.fit_transform(train_X[:, 1])\n",
    "train_X[:, 3] = le.fit_transform(train_X[:, 3])\n",
    "test_X[:, 1] = le.fit_transform(test_X[:, 1])\n",
    "test_X[:, 3] = le.fit_transform(test_X[:, 3])"
   ]
  },
  {
   "cell_type": "code",
   "execution_count": 6,
   "metadata": {
    "execution": {
     "iopub.execute_input": "2020-12-18T07:43:47.683996Z",
     "iopub.status.busy": "2020-12-18T07:43:47.683100Z",
     "iopub.status.idle": "2020-12-18T07:43:49.676469Z",
     "shell.execute_reply": "2020-12-18T07:43:49.675855Z"
    },
    "papermill": {
     "duration": 2.020685,
     "end_time": "2020-12-18T07:43:49.676578",
     "exception": false,
     "start_time": "2020-12-18T07:43:47.655893",
     "status": "completed"
    },
    "tags": []
   },
   "outputs": [],
   "source": [
    "train_y  = np.asarray(train_y).astype('float32')\n",
    "train_X  = np.asarray(train_X).astype('float32')\n",
    "test_X  = np.asarray(test_X).astype('float32')\n",
    "train_y  = tf.keras.utils.normalize(train_y, axis=-1, order=2)\n",
    "train_X = tf.keras.utils.normalize(train_X, axis=-1, order=2)\n",
    "test_X = tf.keras.utils.normalize(test_X, axis=-1, order=2)"
   ]
  },
  {
   "cell_type": "code",
   "execution_count": 7,
   "metadata": {
    "execution": {
     "iopub.execute_input": "2020-12-18T07:43:49.706126Z",
     "iopub.status.busy": "2020-12-18T07:43:49.704951Z",
     "iopub.status.idle": "2020-12-18T07:43:49.903376Z",
     "shell.execute_reply": "2020-12-18T07:43:49.902807Z"
    },
    "papermill": {
     "duration": 0.215167,
     "end_time": "2020-12-18T07:43:49.903498",
     "exception": false,
     "start_time": "2020-12-18T07:43:49.688331",
     "status": "completed"
    },
    "tags": []
   },
   "outputs": [],
   "source": [
    "X_train, X_test, y_train, y_test = train_test_split(train_X, train_y, test_size = 0.2, random_state = 101)"
   ]
  },
  {
   "cell_type": "code",
   "execution_count": 8,
   "metadata": {
    "execution": {
     "iopub.execute_input": "2020-12-18T07:43:49.933882Z",
     "iopub.status.busy": "2020-12-18T07:43:49.932085Z",
     "iopub.status.idle": "2020-12-18T07:43:49.934531Z",
     "shell.execute_reply": "2020-12-18T07:43:49.934997Z"
    },
    "papermill": {
     "duration": 0.019577,
     "end_time": "2020-12-18T07:43:49.935111",
     "exception": false,
     "start_time": "2020-12-18T07:43:49.915534",
     "status": "completed"
    },
    "tags": []
   },
   "outputs": [],
   "source": [
    "def auc(y_test, y_train):\n",
    "    return tf.py_function(roc_auc_score, (y_test, y_train), tf.double)"
   ]
  },
  {
   "cell_type": "code",
   "execution_count": 9,
   "metadata": {
    "execution": {
     "iopub.execute_input": "2020-12-18T07:43:49.970837Z",
     "iopub.status.busy": "2020-12-18T07:43:49.970183Z",
     "iopub.status.idle": "2020-12-18T07:43:52.518173Z",
     "shell.execute_reply": "2020-12-18T07:43:52.517629Z"
    },
    "papermill": {
     "duration": 2.571356,
     "end_time": "2020-12-18T07:43:52.518289",
     "exception": false,
     "start_time": "2020-12-18T07:43:49.946933",
     "status": "completed"
    },
    "tags": []
   },
   "outputs": [],
   "source": [
    "model = tf.keras.models.Sequential()\n",
    "model.add(Flatten())\n",
    "\n",
    "tf.keras.layers.BatchNormalization \n",
    "model.add(tf.keras.layers.Dense(480, activation=\"relu\")) \n",
    "tf.keras.layers.BatchNormalization  \n",
    "tf.keras.layers.Dropout(0.18) \n",
    "model.add(tf.keras.layers.Dense(480, activation=\"relu\"))  \n",
    "tf.keras.layers.BatchNormalization\n",
    "tf.keras.layers.Dropout(0.18)\n",
    "model.add(tf.keras.layers.Dense(480, activation=\"relu\")) \n",
    "tf.keras.layers.BatchNormalization\n",
    "tf.keras.layers.Dropout(0.18)\n",
    "model.add(tf.keras.layers.Dense(480, activation=\"relu\")) \n",
    "tf.keras.layers.BatchNormalization\n",
    "tf.keras.layers.Dropout(0.18)\n",
    "model.add(tf.keras.layers.Dense(480, kernel_initializer='lecun_normal', activation='selu', name = 'last_frozen' ))\n",
    "tf.keras.layers.BatchNormalization\n",
    "model.add(tf.keras.layers.Dense(206, kernel_initializer='lecun_normal', activation='selu'))\n",
    "tf.keras.layers.BatchNormalization  \n",
    "model.add(tf.keras.layers.Dense(206, activation=\"sigmoid\"))\n"
   ]
  },
  {
   "cell_type": "code",
   "execution_count": 10,
   "metadata": {
    "execution": {
     "iopub.execute_input": "2020-12-18T07:43:52.552294Z",
     "iopub.status.busy": "2020-12-18T07:43:52.551514Z",
     "iopub.status.idle": "2020-12-18T07:43:52.570169Z",
     "shell.execute_reply": "2020-12-18T07:43:52.570658Z"
    },
    "papermill": {
     "duration": 0.039635,
     "end_time": "2020-12-18T07:43:52.570781",
     "exception": false,
     "start_time": "2020-12-18T07:43:52.531146",
     "status": "completed"
    },
    "tags": []
   },
   "outputs": [],
   "source": [
    "model.compile(optimizer=\"Nadam\", loss = \"BinaryCrossentropy\", metrics=[tf.keras.metrics.AUC()]) "
   ]
  },
  {
   "cell_type": "code",
   "execution_count": 11,
   "metadata": {
    "execution": {
     "iopub.execute_input": "2020-12-18T07:43:52.599899Z",
     "iopub.status.busy": "2020-12-18T07:43:52.599240Z",
     "iopub.status.idle": "2020-12-18T07:45:58.444563Z",
     "shell.execute_reply": "2020-12-18T07:45:58.443987Z"
    },
    "papermill": {
     "duration": 125.861055,
     "end_time": "2020-12-18T07:45:58.444675",
     "exception": false,
     "start_time": "2020-12-18T07:43:52.583620",
     "status": "completed"
    },
    "tags": []
   },
   "outputs": [
    {
     "name": "stdout",
     "output_type": "stream",
     "text": [
      "Epoch 1/39\n",
      "596/596 [==============================] - 4s 7ms/step - loss: 0.0257 - auc: 0.6866\n",
      "Epoch 2/39\n",
      "596/596 [==============================] - 3s 5ms/step - loss: 0.0199 - auc: 0.7025\n",
      "Epoch 3/39\n",
      "596/596 [==============================] - 3s 5ms/step - loss: 0.0196 - auc: 0.7086\n",
      "Epoch 4/39\n",
      "596/596 [==============================] - 3s 6ms/step - loss: 0.0190 - auc: 0.7232\n",
      "Epoch 5/39\n",
      "596/596 [==============================] - 3s 6ms/step - loss: 0.0185 - auc: 0.7366\n",
      "Epoch 6/39\n",
      "596/596 [==============================] - 3s 5ms/step - loss: 0.0183 - auc: 0.7447\n",
      "Epoch 7/39\n",
      "596/596 [==============================] - 3s 5ms/step - loss: 0.0181 - auc: 0.7489\n",
      "Epoch 8/39\n",
      "596/596 [==============================] - 3s 5ms/step - loss: 0.0180 - auc: 0.7482\n",
      "Epoch 9/39\n",
      "596/596 [==============================] - 3s 5ms/step - loss: 0.0179 - auc: 0.7501\n",
      "Epoch 10/39\n",
      "596/596 [==============================] - 4s 6ms/step - loss: 0.0178 - auc: 0.7522\n",
      "Epoch 11/39\n",
      "596/596 [==============================] - 3s 5ms/step - loss: 0.0176 - auc: 0.7563\n",
      "Epoch 12/39\n",
      "596/596 [==============================] - 3s 6ms/step - loss: 0.0175 - auc: 0.7592\n",
      "Epoch 13/39\n",
      "596/596 [==============================] - 3s 5ms/step - loss: 0.0173 - auc: 0.7620\n",
      "Epoch 14/39\n",
      "596/596 [==============================] - 3s 5ms/step - loss: 0.0171 - auc: 0.7670\n",
      "Epoch 15/39\n",
      "596/596 [==============================] - 3s 6ms/step - loss: 0.0169 - auc: 0.7725\n",
      "Epoch 16/39\n",
      "596/596 [==============================] - 3s 5ms/step - loss: 0.0169 - auc: 0.7719\n",
      "Epoch 17/39\n",
      "596/596 [==============================] - 3s 5ms/step - loss: 0.0167 - auc: 0.7783\n",
      "Epoch 18/39\n",
      "596/596 [==============================] - 3s 5ms/step - loss: 0.0166 - auc: 0.7800\n",
      "Epoch 19/39\n",
      "596/596 [==============================] - 3s 6ms/step - loss: 0.0166 - auc: 0.7795\n",
      "Epoch 20/39\n",
      "596/596 [==============================] - 3s 6ms/step - loss: 0.0164 - auc: 0.7835\n",
      "Epoch 21/39\n",
      "596/596 [==============================] - 3s 5ms/step - loss: 0.0164 - auc: 0.7844\n",
      "Epoch 22/39\n",
      "596/596 [==============================] - 3s 6ms/step - loss: 0.0163 - auc: 0.7889\n",
      "Epoch 23/39\n",
      "596/596 [==============================] - 3s 5ms/step - loss: 0.0162 - auc: 0.7893\n",
      "Epoch 24/39\n",
      "596/596 [==============================] - 3s 5ms/step - loss: 0.0162 - auc: 0.7883\n",
      "Epoch 25/39\n",
      "596/596 [==============================] - 3s 5ms/step - loss: 0.0161 - auc: 0.7928\n",
      "Epoch 26/39\n",
      "596/596 [==============================] - 3s 5ms/step - loss: 0.0160 - auc: 0.7954\n",
      "Epoch 27/39\n",
      "596/596 [==============================] - 3s 5ms/step - loss: 0.0159 - auc: 0.7972\n",
      "Epoch 28/39\n",
      "596/596 [==============================] - 3s 5ms/step - loss: 0.0158 - auc: 0.7977\n",
      "Epoch 29/39\n",
      "596/596 [==============================] - 4s 6ms/step - loss: 0.0158 - auc: 0.8001\n",
      "Epoch 30/39\n",
      "596/596 [==============================] - 4s 7ms/step - loss: 0.0157 - auc: 0.8028\n",
      "Epoch 31/39\n",
      "596/596 [==============================] - 3s 5ms/step - loss: 0.0157 - auc: 0.8024\n",
      "Epoch 32/39\n",
      "596/596 [==============================] - 3s 5ms/step - loss: 0.0156 - auc: 0.8050\n",
      "Epoch 33/39\n",
      "596/596 [==============================] - 3s 5ms/step - loss: 0.0156 - auc: 0.8057\n",
      "Epoch 34/39\n",
      "596/596 [==============================] - 3s 5ms/step - loss: 0.0155 - auc: 0.8085\n",
      "Epoch 35/39\n",
      "596/596 [==============================] - 3s 5ms/step - loss: 0.0155 - auc: 0.8095\n",
      "Epoch 36/39\n",
      "596/596 [==============================] - 3s 5ms/step - loss: 0.0154 - auc: 0.8110\n",
      "Epoch 37/39\n",
      "596/596 [==============================] - 3s 5ms/step - loss: 0.0154 - auc: 0.8117\n",
      "Epoch 38/39\n",
      "596/596 [==============================] - 3s 5ms/step - loss: 0.0153 - auc: 0.8128\n",
      "Epoch 39/39\n",
      "596/596 [==============================] - 3s 5ms/step - loss: 0.0153 - auc: 0.8125\n"
     ]
    },
    {
     "data": {
      "text/plain": [
       "<tensorflow.python.keras.callbacks.History at 0x7f48ff987ed0>"
      ]
     },
     "execution_count": 11,
     "metadata": {},
     "output_type": "execute_result"
    }
   ],
   "source": [
    "model.fit(X_train, y_train, epochs=39)"
   ]
  },
  {
   "cell_type": "code",
   "execution_count": 12,
   "metadata": {
    "execution": {
     "iopub.execute_input": "2020-12-18T07:46:00.315527Z",
     "iopub.status.busy": "2020-12-18T07:46:00.314513Z",
     "iopub.status.idle": "2020-12-18T07:46:01.026847Z",
     "shell.execute_reply": "2020-12-18T07:46:01.028002Z"
    },
    "papermill": {
     "duration": 1.627512,
     "end_time": "2020-12-18T07:46:01.028314",
     "exception": false,
     "start_time": "2020-12-18T07:45:59.400802",
     "status": "completed"
    },
    "tags": []
   },
   "outputs": [
    {
     "name": "stdout",
     "output_type": "stream",
     "text": [
      "149/149 [==============================] - 0s 3ms/step - loss: 0.0162 - auc: 0.7879\n"
     ]
    }
   ],
   "source": [
    "val_loss, val_acc = model.evaluate(X_test, y_test)"
   ]
  },
  {
   "cell_type": "code",
   "execution_count": 13,
   "metadata": {
    "execution": {
     "iopub.execute_input": "2020-12-18T07:46:03.009378Z",
     "iopub.status.busy": "2020-12-18T07:46:03.008251Z",
     "iopub.status.idle": "2020-12-18T07:46:03.265791Z",
     "shell.execute_reply": "2020-12-18T07:46:03.265174Z"
    },
    "papermill": {
     "duration": 1.097366,
     "end_time": "2020-12-18T07:46:03.265911",
     "exception": false,
     "start_time": "2020-12-18T07:46:02.168545",
     "status": "completed"
    },
    "tags": []
   },
   "outputs": [],
   "source": [
    "predictions = model.predict(test_X)\n",
    "predictions = np.clip(predictions, a_min = 0.001, a_max = 0.999)\n",
    "predictions = pd.DataFrame(predictions)\n",
    "predictions.head(10)\n",
    "\n",
    "\n",
    "target_name = ['5-alpha_reductase_inhibitor', '11-beta-hsd1_inhibitor', 'acat_inhibitor', 'acetylcholine_receptor_agonist', 'acetylcholine_receptor_antagonist', 'acetylcholinesterase_inhibitor', 'adenosine_receptor_agonist', 'adenosine_receptor_antagonist', 'adenylyl_cyclase_activator', 'adrenergic_receptor_agonist', 'adrenergic_receptor_antagonist', 'akt_inhibitor', 'aldehyde_dehydrogenase_inhibitor', 'alk_inhibitor', 'ampk_activator', 'analgesic', 'androgen_receptor_agonist', 'androgen_receptor_antagonist', 'anesthetic_-_local', 'angiogenesis_inhibitor', 'angiotensin_receptor_antagonist', 'anti-inflammatory', 'antiarrhythmic', 'antibiotic', 'anticonvulsant', 'antifungal', 'antihistamine', 'antimalarial', 'antioxidant', 'antiprotozoal', 'antiviral', 'apoptosis_stimulant', 'aromatase_inhibitor', 'atm_kinase_inhibitor', 'atp-sensitive_potassium_channel_antagonist', 'atp_synthase_inhibitor', 'atpase_inhibitor', 'atr_kinase_inhibitor', 'aurora_kinase_inhibitor', 'autotaxin_inhibitor', 'bacterial_30s_ribosomal_subunit_inhibitor', 'bacterial_50s_ribosomal_subunit_inhibitor', 'bacterial_antifolate', 'bacterial_cell_wall_synthesis_inhibitor', 'bacterial_dna_gyrase_inhibitor', 'bacterial_dna_inhibitor', 'bacterial_membrane_integrity_inhibitor', 'bcl_inhibitor', 'bcr-abl_inhibitor', 'benzodiazepine_receptor_agonist', 'beta_amyloid_inhibitor', 'bromodomain_inhibitor', 'btk_inhibitor', 'calcineurin_inhibitor', 'calcium_channel_blocker', 'cannabinoid_receptor_agonist', 'cannabinoid_receptor_antagonist', 'carbonic_anhydrase_inhibitor', 'casein_kinase_inhibitor', 'caspase_activator', 'catechol_o_methyltransferase_inhibitor', 'cc_chemokine_receptor_antagonist', 'cck_receptor_antagonist', 'cdk_inhibitor', 'chelating_agent', 'chk_inhibitor', 'chloride_channel_blocker', 'cholesterol_inhibitor', 'cholinergic_receptor_antagonist', 'coagulation_factor_inhibitor', 'corticosteroid_agonist', 'cyclooxygenase_inhibitor', 'cytochrome_p450_inhibitor', 'dihydrofolate_reductase_inhibitor', 'dipeptidyl_peptidase_inhibitor', 'diuretic', 'dna_alkylating_agent', 'dna_inhibitor', 'dopamine_receptor_agonist', 'dopamine_receptor_antagonist', 'egfr_inhibitor', 'elastase_inhibitor', 'erbb2_inhibitor', 'estrogen_receptor_agonist', 'estrogen_receptor_antagonist', 'faah_inhibitor', 'farnesyltransferase_inhibitor', 'fatty_acid_receptor_agonist', 'fgfr_inhibitor', 'flt3_inhibitor', 'focal_adhesion_kinase_inhibitor', 'free_radical_scavenger', 'fungal_squalene_epoxidase_inhibitor', 'gaba_receptor_agonist', 'gaba_receptor_antagonist', 'gamma_secretase_inhibitor', 'glucocorticoid_receptor_agonist', 'glutamate_inhibitor', 'glutamate_receptor_agonist', 'glutamate_receptor_antagonist', 'gonadotropin_receptor_agonist', 'gsk_inhibitor', 'hcv_inhibitor', 'hdac_inhibitor', 'histamine_receptor_agonist', 'histamine_receptor_antagonist', 'histone_lysine_demethylase_inhibitor', 'histone_lysine_methyltransferase_inhibitor', 'hiv_inhibitor', 'hmgcr_inhibitor', 'hsp_inhibitor', 'igf-1_inhibitor', 'ikk_inhibitor', 'imidazoline_receptor_agonist', 'immunosuppressant', 'insulin_secretagogue', 'insulin_sensitizer', 'integrin_inhibitor', 'jak_inhibitor', 'kit_inhibitor', 'laxative', 'leukotriene_inhibitor', 'leukotriene_receptor_antagonist', 'lipase_inhibitor', 'lipoxygenase_inhibitor', 'lxr_agonist', 'mdm_inhibitor', 'mek_inhibitor', 'membrane_integrity_inhibitor', 'mineralocorticoid_receptor_antagonist', 'monoacylglycerol_lipase_inhibitor', 'monoamine_oxidase_inhibitor', 'monopolar_spindle_1_kinase_inhibitor', 'mtor_inhibitor', 'mucolytic_agent', 'neuropeptide_receptor_antagonist', 'nfkb_inhibitor', 'nicotinic_receptor_agonist', 'nitric_oxide_donor', 'nitric_oxide_production_inhibitor', 'nitric_oxide_synthase_inhibitor', 'norepinephrine_reuptake_inhibitor', 'nrf2_activator', 'opioid_receptor_agonist', 'opioid_receptor_antagonist', 'orexin_receptor_antagonist', 'p38_mapk_inhibitor', 'p-glycoprotein_inhibitor', 'parp_inhibitor', 'pdgfr_inhibitor', 'pdk_inhibitor', 'phosphodiesterase_inhibitor', 'phospholipase_inhibitor', 'pi3k_inhibitor', 'pkc_inhibitor', 'potassium_channel_activator', 'potassium_channel_antagonist', 'ppar_receptor_agonist', 'ppar_receptor_antagonist', 'progesterone_receptor_agonist', 'progesterone_receptor_antagonist', 'prostaglandin_inhibitor', 'prostanoid_receptor_antagonist', 'proteasome_inhibitor', 'protein_kinase_inhibitor', 'protein_phosphatase_inhibitor', 'protein_synthesis_inhibitor', 'protein_tyrosine_kinase_inhibitor', 'radiopaque_medium', 'raf_inhibitor', 'ras_gtpase_inhibitor', 'retinoid_receptor_agonist', 'retinoid_receptor_antagonist', 'rho_associated_kinase_inhibitor', 'ribonucleoside_reductase_inhibitor', 'rna_polymerase_inhibitor', 'serotonin_receptor_agonist', 'serotonin_receptor_antagonist', 'serotonin_reuptake_inhibitor', 'sigma_receptor_agonist', 'sigma_receptor_antagonist', 'smoothened_receptor_antagonist', 'sodium_channel_inhibitor', 'sphingosine_receptor_agonist', 'src_inhibitor', 'steroid', 'syk_inhibitor', 'tachykinin_antagonist', 'tgf-beta_receptor_inhibitor', 'thrombin_inhibitor', 'thymidylate_synthase_inhibitor', 'tlr_agonist', 'tlr_antagonist', 'tnf_inhibitor', 'topoisomerase_inhibitor', 'transient_receptor_potential_channel_antagonist', 'tropomyosin_receptor_kinase_inhibitor', 'trpv_agonist', 'trpv_antagonist', 'tubulin_inhibitor', 'tyrosine_kinase_inhibitor', 'ubiquitin_specific_protease_inhibitor', 'vegfr_inhibitor', 'vitamin_b', 'vitamin_d_receptor_agonist', 'wnt_inhibitor']\n",
    "predictions.columns=target_name"
   ]
  },
  {
   "cell_type": "code",
   "execution_count": 14,
   "metadata": {
    "execution": {
     "iopub.execute_input": "2020-12-18T07:46:04.957350Z",
     "iopub.status.busy": "2020-12-18T07:46:04.956588Z",
     "iopub.status.idle": "2020-12-18T07:46:04.960036Z",
     "shell.execute_reply": "2020-12-18T07:46:04.960502Z"
    },
    "papermill": {
     "duration": 0.831523,
     "end_time": "2020-12-18T07:46:04.960632",
     "exception": false,
     "start_time": "2020-12-18T07:46:04.129109",
     "status": "completed"
    },
    "tags": []
   },
   "outputs": [],
   "source": [
    "sample2 = pd.DataFrame(sample1[\"sig_id\"])\n",
    "sample2\n",
    "predictions.insert(0, \"sig_id\", sample2, True)"
   ]
  },
  {
   "cell_type": "code",
   "execution_count": 15,
   "metadata": {
    "execution": {
     "iopub.execute_input": "2020-12-18T07:46:06.590515Z",
     "iopub.status.busy": "2020-12-18T07:46:06.589664Z",
     "iopub.status.idle": "2020-12-18T07:46:07.886998Z",
     "shell.execute_reply": "2020-12-18T07:46:07.886487Z"
    },
    "papermill": {
     "duration": 2.110429,
     "end_time": "2020-12-18T07:46:07.887107",
     "exception": false,
     "start_time": "2020-12-18T07:46:05.776678",
     "status": "completed"
    },
    "tags": []
   },
   "outputs": [
    {
     "data": {
      "text/plain": [
       "(3982, 207)"
      ]
     },
     "execution_count": 15,
     "metadata": {},
     "output_type": "execute_result"
    }
   ],
   "source": [
    "predictions.head(10)\n",
    "predictions.to_csv('/kaggle/working/submission.csv', index = False)\n",
    "predictions.shape"
   ]
  }
 ],
 "metadata": {
  "kernelspec": {
   "display_name": "Python 3",
   "language": "python",
   "name": "python3"
  },
  "language_info": {
   "codemirror_mode": {
    "name": "ipython",
    "version": 3
   },
   "file_extension": ".py",
   "mimetype": "text/x-python",
   "name": "python",
   "nbconvert_exporter": "python",
   "pygments_lexer": "ipython3",
   "version": "3.7.6"
  },
  "papermill": {
   "duration": 162.933187,
   "end_time": "2020-12-18T07:46:10.495105",
   "environment_variables": {},
   "exception": null,
   "input_path": "__notebook__.ipynb",
   "output_path": "__notebook__.ipynb",
   "parameters": {},
   "start_time": "2020-12-18T07:43:27.561918",
   "version": "2.1.0"
  }
 },
 "nbformat": 4,
 "nbformat_minor": 4
}
